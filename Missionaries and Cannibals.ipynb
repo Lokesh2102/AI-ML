{
 "cells": [
  {
   "cell_type": "code",
   "execution_count": 1,
   "metadata": {},
   "outputs": [],
   "source": [
    "#class to store the details of both river banks and the current bank\n",
    "# a number of missionaries at bank 0\n",
    "# b number of cannibals at bank 0\n",
    "# c number of missionaries at bank 1\n",
    "# d number of cannibals at bank 1\n",
    "# e position of the current bank\n",
    "class missAndCann():\n",
    "    a=int()\n",
    "    b=int()\n",
    "    c=int()\n",
    "    d=int()\n",
    "    e=int()"
   ]
  },
  {
   "cell_type": "code",
   "execution_count": 2,
   "metadata": {},
   "outputs": [],
   "source": [
    "#fucntion to transfer 2 missionaries on the boat\n",
    "def miss(llist):\n",
    "    if(llist[4]==0):\n",
    "        if(llist[0]>1):\n",
    "            llist[0]=llist[0]-2\n",
    "            llist[2]=llist[2]+2\n",
    "            llist[4]=1\n",
    "    else:\n",
    "        if(llist[2]>1):\n",
    "            llist[2]=llist[2]-2\n",
    "            llist[0]=llist[0]+2\n",
    "            llist[4]=0"
   ]
  },
  {
   "cell_type": "code",
   "execution_count": 3,
   "metadata": {},
   "outputs": [],
   "source": [
    "#fucntion to transfer 1 missionary on the boat\n",
    "def miss1(llist):\n",
    "    if(llist[4]==0):\n",
    "        if(llist[0]>0):\n",
    "            llist[0]=llist[0]-1\n",
    "            llist[2]=llist[2]+1\n",
    "            llist[4]=1\n",
    "    else:\n",
    "        if(llist[2]>0):\n",
    "            llist[2]=llist[2]-1\n",
    "            llist[0]=llist[0]+1\n",
    "            llist[4]=0"
   ]
  },
  {
   "cell_type": "code",
   "execution_count": 4,
   "metadata": {},
   "outputs": [],
   "source": [
    "#fucntion to transfer 2 cannibals on the boat\n",
    "def cann(llist):\n",
    "    if(llist[4]==0):\n",
    "        if(llist[1]>1):\n",
    "            llist[1]=llist[1]-2\n",
    "            llist[3]=llist[3]+2\n",
    "            llist[4]=1\n",
    "    else:\n",
    "        if(llist[3]>1):\n",
    "            llist[3]=llist[3]-2\n",
    "            llist[1]=llist[1]+2\n",
    "            llist[4]=0"
   ]
  },
  {
   "cell_type": "code",
   "execution_count": 5,
   "metadata": {},
   "outputs": [],
   "source": [
    "#fucntion to transfer 1 cannibal on the boat\n",
    "def cann1(llist):\n",
    "    if(llist[4]==0):\n",
    "        if(llist[1]>0):\n",
    "            llist[1]=llist[1]-1\n",
    "            llist[3]=llist[3]+1\n",
    "            llist[4]=1\n",
    "    else:\n",
    "        if(llist[3]>0):\n",
    "            llist[3]=llist[3]-1\n",
    "            llist[1]=llist[1]+1\n",
    "            llist[4]=0"
   ]
  },
  {
   "cell_type": "code",
   "execution_count": 6,
   "metadata": {},
   "outputs": [],
   "source": [
    "#fucntion to transfer 1 missionary and 1 cannibal on the boat\n",
    "def miscan(llist):\n",
    "    if(llist[4]==0):\n",
    "        if(llist[0]>0 and llist[1]>0):\n",
    "            llist[0]=llist[0]-1\n",
    "            llist[2]=llist[2]+1\n",
    "            llist[1]=llist[1]-1\n",
    "            llist[3]=llist[3]+1\n",
    "            llist[4]=1\n",
    "    else:\n",
    "        if(llist[2]>0 and llist[3]>0):\n",
    "            llist[2]=llist[2]-1\n",
    "            llist[0]=llist[0]+1\n",
    "            llist[3]=llist[3]-1\n",
    "            llist[1]=llist[1]+1\n",
    "            llist[4]=0"
   ]
  },
  {
   "cell_type": "code",
   "execution_count": 7,
   "metadata": {},
   "outputs": [],
   "source": [
    "#function to add key-value pair in the dictionary\n",
    "def addlevel(llist):\n",
    "    if llist[0] not in layer:\n",
    "        layer[llist[0]]=[]\n",
    "    for i in range(1,len(llist)):\n",
    "        layer[llist[0]].append(llist[i])"
   ]
  },
  {
   "cell_type": "code",
   "execution_count": 8,
   "metadata": {},
   "outputs": [],
   "source": [
    "#function to check the condition that \n",
    "#at any of the bank,the number of missionary should be less than number of cannibals\n",
    "#else, the cannibals would eat them\n",
    "def check(llist):\n",
    "    if(llist[0]==0 or llist[2]==0):\n",
    "        return 1\n",
    "    if(llist[0]<llist[1] or llist[2]<llist[3]):\n",
    "        return 0"
   ]
  },
  {
   "cell_type": "code",
   "execution_count": 9,
   "metadata": {},
   "outputs": [],
   "source": [
    "#function to check repition of any value in already generated tree\n",
    "def check_rep(ini,f_layer):\n",
    "    for i in f_layer:\n",
    "        if(i.a is ini[0] and i.b is ini[1] and i.c is ini[2] and i.d is ini[3] and i.e is ini[4]):\n",
    "            return 1\n",
    "    return 0"
   ]
  },
  {
   "cell_type": "code",
   "execution_count": 10,
   "metadata": {},
   "outputs": [],
   "source": [
    "#function to find all possible shortest paths from initial(3,3,0,0,0) till final(0,0,3,3,1) capacity.\n",
    "def find_path(layer):\n",
    "    ini=obj[0]\n",
    "    visited=[]\n",
    "    all_p=[]\n",
    "    count=0\n",
    "    flag=0\n",
    "    while(count==0):\n",
    "        visited.append(ini)\n",
    "        all_p.append(ini)\n",
    "        if(ini.c is 3 and ini.d is 3 and ini.e is 1):\n",
    "            for i in visited:\n",
    "                print(\"(\"+str(i.a)+\",\"+str(i.b)+\",\"+str(i.c)+\",\"+str(i.d)+\",\"+str(i.e)+\")\",end=\"  \")\n",
    "            print(end=\"\\n\")\n",
    "            flag=0\n",
    "            while(flag==0):\n",
    "                del(visited[len(visited)-1])\n",
    "                ini=visited[len(visited)-1]\n",
    "                for i in layer[ini]:\n",
    "                    if(i not in all_p):\n",
    "                        ini=i\n",
    "                        flag=1\n",
    "                        break\n",
    "                if(ini==obj[0]):\n",
    "                    flag=1\n",
    "                    count=1\n",
    "                if(flag==0):\n",
    "                    continue\n",
    "        elif(len(layer[ini])==0):\n",
    "            flag=0\n",
    "            while(flag==0):\n",
    "                del(visited[len(visited)-1])\n",
    "                ini=visited[len(visited)-1]\n",
    "                for i in layer[ini]:\n",
    "                    if(i not in all_p):\n",
    "                        ini=i\n",
    "                        flag=1\n",
    "                        break\n",
    "                if(ini==obj[0]):\n",
    "                    flag=1\n",
    "                    count=1\n",
    "                if(flag==0):\n",
    "                    continue\n",
    "        else:\n",
    "            for i in layer[ini]:\n",
    "                if(i not in visited):\n",
    "                    ini=i\n",
    "                    break\n"
   ]
  },
  {
   "cell_type": "code",
   "execution_count": 11,
   "metadata": {},
   "outputs": [],
   "source": [
    "#rb is the list with the original position i.e. [3,3,0,0,0]\n",
    "global p\n",
    "p=0\n",
    "layer=dict()\n",
    "rb=[3,3,0,0,0]\n",
    "var1=rb[0]\n",
    "var2=rb[1]\n",
    "var3=rb[2]\n",
    "var4=rb[3]\n",
    "var5=rb[4]\n",
    "obj={}\n",
    "obj[p]=missAndCann()\n",
    "obj[p].a=var1\n",
    "obj[p].b=var2\n",
    "obj[p].c=var3\n",
    "obj[p].d=var4\n",
    "obj[p].e=var5\n",
    "#BFS holds all the key that have not been generated with their child\n",
    "BFS=[]\n",
    "#f_layer holds the key-value pair for one level at a time\n",
    "f_layer=[]\n",
    "#all_n holds the value all all nodes generated so far\n",
    "all_n=[]\n",
    "ini=[var1,var2,var3,var4,var5]\n",
    "f_layer.append(obj[p])\n",
    "all_n.append(obj[p])\n",
    "BFS.append(obj[p])\n",
    "p+=1"
   ]
  },
  {
   "cell_type": "code",
   "execution_count": 12,
   "metadata": {},
   "outputs": [],
   "source": [
    "#Creating dictionary using BFS\n",
    "c=0\n",
    "while(BFS):\n",
    "    while(c<5):\n",
    "        if(c==0):\n",
    "            miss(ini)\n",
    "        if(c==1):\n",
    "            miss1(ini)\n",
    "        if(c==2):\n",
    "            cann(ini)\n",
    "        if(c==3):\n",
    "            cann1(ini)\n",
    "        if(c==4):\n",
    "            miscan(ini)\n",
    "        if(check(ini)==0):\n",
    "            c+=1\n",
    "            ini=[var1,var2,var3,var4,var5]\n",
    "            continue\n",
    "        if(check_rep(ini,f_layer)==0 and check_rep(ini,all_n)==0):\n",
    "            obj[p]=missAndCann()\n",
    "            obj[p].a=ini[0]\n",
    "            obj[p].b=ini[1]\n",
    "            obj[p].c=ini[2]\n",
    "            obj[p].d=ini[3]\n",
    "            obj[p].e=ini[4]\n",
    "            f_layer.append(obj[p])\n",
    "            all_n.append(obj[p])\n",
    "            BFS.append(obj[p])\n",
    "            p+=1\n",
    "        ini=[var1,var2,var3,var4,var5]\n",
    "        c+=1\n",
    "    addlevel(f_layer)\n",
    "    f_layer=[]\n",
    "    del BFS[0]\n",
    "    if(len(BFS)==0):\n",
    "        break\n",
    "    ini=[BFS[0].a,BFS[0].b,BFS[0].c,BFS[0].d,BFS[0].e]\n",
    "    f_layer.append(BFS[0])\n",
    "    var1=ini[0]\n",
    "    var2=ini[1]\n",
    "    var3=ini[2]\n",
    "    var4=ini[3]\n",
    "    var5=ini[4]\n",
    "    c=0"
   ]
  },
  {
   "cell_type": "code",
   "execution_count": 13,
   "metadata": {},
   "outputs": [
    {
     "name": "stdout",
     "output_type": "stream",
     "text": [
      "(3,3,0,0,0): (3,1,0,2,1), (3,2,0,1,1), (2,2,1,1,1), \n",
      "(3,1,0,2,1): (3,2,0,1,0), \n",
      "(3,2,0,1,1): \n",
      "(2,2,1,1,1): \n",
      "(3,2,0,1,0): (3,0,0,3,1), \n",
      "(3,0,0,3,1): (3,1,0,2,0), \n",
      "(3,1,0,2,0): (1,1,2,2,1), \n",
      "(1,1,2,2,1): (2,2,1,1,0), \n",
      "(2,2,1,1,0): (0,2,3,1,1), \n",
      "(0,2,3,1,1): (0,3,3,0,0), \n",
      "(0,3,3,0,0): (0,1,3,2,1), \n",
      "(0,1,3,2,1): (1,1,2,2,0), (0,2,3,1,0), \n",
      "(1,1,2,2,0): (0,0,3,3,1), \n",
      "(0,2,3,1,0): \n",
      "(0,0,3,3,1): (0,1,3,2,0), \n",
      "(0,1,3,2,0): \n"
     ]
    }
   ],
   "source": [
    "#Printing dictionary using BFS\n",
    "for i in layer:\n",
    "    print(\"(\"+str(i.a)+\",\"+str(i.b)+\",\"+str(i.c)+\",\"+str(i.d)+\",\"+str(i.e)+\")\",end=\": \")\n",
    "    for j in layer[i]:\n",
    "        print(\"(\"+str(j.a)+\",\"+str(j.b)+\",\"+str(j.c)+\",\"+str(j.d)+\",\"+str(j.e)+\")\",end=\", \")\n",
    "    print(end=\"\\n\")"
   ]
  },
  {
   "cell_type": "code",
   "execution_count": 14,
   "metadata": {},
   "outputs": [
    {
     "name": "stdout",
     "output_type": "stream",
     "text": [
      "(3,3,0,0,0)  (3,1,0,2,1)  (3,2,0,1,0)  (3,0,0,3,1)  (3,1,0,2,0)  (1,1,2,2,1)  (2,2,1,1,0)  (0,2,3,1,1)  (0,3,3,0,0)  (0,1,3,2,1)  (1,1,2,2,0)  (0,0,3,3,1)  \n"
     ]
    }
   ],
   "source": [
    "#Finding paths using BFS\n",
    "find_path(layer)"
   ]
  },
  {
   "cell_type": "code",
   "execution_count": 15,
   "metadata": {},
   "outputs": [],
   "source": [
    "#SAME PROCESS FOR DFS"
   ]
  },
  {
   "cell_type": "code",
   "execution_count": 16,
   "metadata": {},
   "outputs": [],
   "source": [
    "global p\n",
    "p=0\n",
    "layer=dict()\n",
    "rb=[3,3,0,0,0]\n",
    "var1=rb[0]\n",
    "var2=rb[1]\n",
    "var3=rb[2]\n",
    "var4=rb[3]\n",
    "var5=rb[4]\n",
    "obj={}\n",
    "obj[p]=missAndCann()\n",
    "obj[p].a=var1\n",
    "obj[p].b=var2\n",
    "obj[p].c=var3\n",
    "obj[p].d=var4\n",
    "obj[p].e=var5\n",
    "DFS=[]\n",
    "f_layer=[]\n",
    "all_n=[]\n",
    "ini=[var1,var2,var3,var4,var5]\n",
    "f_layer.append(obj[p])\n",
    "all_n.append(obj[p])\n",
    "DFS.append(obj[p])\n",
    "p+=1"
   ]
  },
  {
   "cell_type": "code",
   "execution_count": 17,
   "metadata": {},
   "outputs": [],
   "source": [
    "#Creating dictionary using DFS\n",
    "c=0\n",
    "pos=1\n",
    "while(DFS):\n",
    "    while(c<5):\n",
    "        if(c==0):\n",
    "            miss(ini)\n",
    "        if(c==1):\n",
    "            miss1(ini)\n",
    "        if(c==2):\n",
    "            cann(ini)\n",
    "        if(c==3):\n",
    "            cann1(ini)\n",
    "        if(c==4):\n",
    "            miscan(ini)\n",
    "        if(check(ini)==0):\n",
    "            c+=1\n",
    "            ini=[var1,var2,var3,var4,var5]\n",
    "            continue\n",
    "        if(check_rep(ini,f_layer)==0 and check_rep(ini,all_n)==0):\n",
    "            obj[p]=missAndCann()\n",
    "            obj[p].a=ini[0]\n",
    "            obj[p].b=ini[1]\n",
    "            obj[p].c=ini[2]\n",
    "            obj[p].d=ini[3]\n",
    "            obj[p].e=ini[4]\n",
    "            f_layer.append(obj[p])\n",
    "            all_n.append(obj[p])\n",
    "            DFS.insert(pos,obj[p])\n",
    "            pos+=1\n",
    "            p+=1\n",
    "        ini=[var1,var2,var3,var4,var5]\n",
    "        c+=1\n",
    "    addlevel(f_layer)\n",
    "    f_layer=[]\n",
    "    del DFS[0]\n",
    "    if(len(DFS)==0):\n",
    "        break\n",
    "    ini=[DFS[0].a,DFS[0].b,DFS[0].c,DFS[0].d,DFS[0].e]\n",
    "    f_layer.append(DFS[0])\n",
    "    var1=ini[0]\n",
    "    var2=ini[1]\n",
    "    var3=ini[2]\n",
    "    var4=ini[3]\n",
    "    var5=ini[4]\n",
    "    c=0\n",
    "    pos=1"
   ]
  },
  {
   "cell_type": "code",
   "execution_count": 18,
   "metadata": {},
   "outputs": [
    {
     "name": "stdout",
     "output_type": "stream",
     "text": [
      "(3,3,0,0,0): (3,1,0,2,1), (3,2,0,1,1), (2,2,1,1,1), \n",
      "(3,1,0,2,1): (3,2,0,1,0), \n",
      "(3,2,0,1,0): (3,0,0,3,1), \n",
      "(3,0,0,3,1): (3,1,0,2,0), \n",
      "(3,1,0,2,0): (1,1,2,2,1), \n",
      "(1,1,2,2,1): (2,2,1,1,0), \n",
      "(2,2,1,1,0): (0,2,3,1,1), \n",
      "(0,2,3,1,1): (0,3,3,0,0), \n",
      "(0,3,3,0,0): (0,1,3,2,1), \n",
      "(0,1,3,2,1): (1,1,2,2,0), (0,2,3,1,0), \n",
      "(1,1,2,2,0): (0,0,3,3,1), \n",
      "(0,0,3,3,1): (0,1,3,2,0), \n",
      "(0,1,3,2,0): \n",
      "(0,2,3,1,0): \n",
      "(3,2,0,1,1): \n",
      "(2,2,1,1,1): \n"
     ]
    }
   ],
   "source": [
    "#Printing dictionary using DFS\n",
    "for i in layer:\n",
    "    print(\"(\"+str(i.a)+\",\"+str(i.b)+\",\"+str(i.c)+\",\"+str(i.d)+\",\"+str(i.e)+\")\",end=\": \")\n",
    "    for j in layer[i]:\n",
    "        print(\"(\"+str(j.a)+\",\"+str(j.b)+\",\"+str(j.c)+\",\"+str(j.d)+\",\"+str(j.e)+\")\",end=\", \")\n",
    "    print(end=\"\\n\")"
   ]
  },
  {
   "cell_type": "code",
   "execution_count": 19,
   "metadata": {},
   "outputs": [
    {
     "name": "stdout",
     "output_type": "stream",
     "text": [
      "(3,3,0,0,0)  (3,1,0,2,1)  (3,2,0,1,0)  (3,0,0,3,1)  (3,1,0,2,0)  (1,1,2,2,1)  (2,2,1,1,0)  (0,2,3,1,1)  (0,3,3,0,0)  (0,1,3,2,1)  (1,1,2,2,0)  (0,0,3,3,1)  \n"
     ]
    }
   ],
   "source": [
    "#Finding path using DFS\n",
    "find_path(layer)"
   ]
  },
  {
   "cell_type": "code",
   "execution_count": null,
   "metadata": {},
   "outputs": [],
   "source": []
  }
 ],
 "metadata": {
  "kernelspec": {
   "display_name": "Python 3",
   "language": "python",
   "name": "python3"
  },
  "language_info": {
   "codemirror_mode": {
    "name": "ipython",
    "version": 3
   },
   "file_extension": ".py",
   "mimetype": "text/x-python",
   "name": "python",
   "nbconvert_exporter": "python",
   "pygments_lexer": "ipython3",
   "version": "3.7.1"
  }
 },
 "nbformat": 4,
 "nbformat_minor": 2
}
