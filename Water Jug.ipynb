{
 "cells": [
  {
   "cell_type": "code",
   "execution_count": 1,
   "metadata": {},
   "outputs": [],
   "source": [
    "#class to store the volume of jugs\n",
    "class water_jug:\n",
    "    a=int()\n",
    "    b=int()"
   ]
  },
  {
   "cell_type": "code",
   "execution_count": 2,
   "metadata": {},
   "outputs": [],
   "source": [
    "#function to add key-value pair in the dictionary\n",
    "def addlevel(llist):\n",
    "    if llist[0] not in layer:\n",
    "        layer[llist[0]]=[]\n",
    "    for i in range(1,len(llist)):\n",
    "        layer[llist[0]].append(llist[i])"
   ]
  },
  {
   "cell_type": "code",
   "execution_count": 3,
   "metadata": {},
   "outputs": [],
   "source": [
    "#function to completely fill the first jug\n",
    "def fillA(val):\n",
    "    val[0]=c1"
   ]
  },
  {
   "cell_type": "code",
   "execution_count": 4,
   "metadata": {},
   "outputs": [],
   "source": [
    "#function to completely fill the second jug\n",
    "def fillB(val):\n",
    "    val[1]=c2"
   ]
  },
  {
   "cell_type": "code",
   "execution_count": 5,
   "metadata": {},
   "outputs": [],
   "source": [
    "#function to completely empty the first jug\n",
    "def emptyA(val):\n",
    "    val[0]=0 "
   ]
  },
  {
   "cell_type": "code",
   "execution_count": 6,
   "metadata": {},
   "outputs": [],
   "source": [
    "#function to completely empty the second jug\n",
    "def emptyB(val):\n",
    "    val[1]=0"
   ]
  },
  {
   "cell_type": "code",
   "execution_count": 7,
   "metadata": {},
   "outputs": [],
   "source": [
    "#function to overturn the water capacity from A to B untill B is completetly filled or A is completetly empty\n",
    "def AtoB(val):\n",
    "    v=val[0]+val[1]\n",
    "    if(v<=c2):\n",
    "        val[1]=v\n",
    "        val[0]=0\n",
    "    else:\n",
    "        val[1]=c2\n",
    "        val[0]=v-c2"
   ]
  },
  {
   "cell_type": "code",
   "execution_count": 8,
   "metadata": {},
   "outputs": [],
   "source": [
    "#function to overturn the water capacity from B to A untill A is completetly filled or B is completetly empty\n",
    "def BtoA(val):\n",
    "    v=val[0]+val[1]\n",
    "    if(v<=c1):\n",
    "        val[0]=v\n",
    "        val[1]=0\n",
    "    else:\n",
    "        val[0]=c1\n",
    "        val[1]=v-c1  "
   ]
  },
  {
   "cell_type": "code",
   "execution_count": 9,
   "metadata": {},
   "outputs": [],
   "source": [
    "#function to check repition of any value in already generated tree        \n",
    "def check_rep(ini,f_layer):\n",
    "    for i in f_layer:\n",
    "        if(i.a is ini[0] and i.b is ini[1]):\n",
    "            return 1\n",
    "    return 0"
   ]
  },
  {
   "cell_type": "code",
   "execution_count": 10,
   "metadata": {},
   "outputs": [],
   "source": [
    "#function to find all possible shortest paths from initial(0,0) till final(0,2) or (3,2) capacity.\n",
    "def find_path(layer):\n",
    "    ini=obj[0]\n",
    "    visited=[]\n",
    "    all_p=[]\n",
    "    count=0\n",
    "    flag=0\n",
    "    while(count==0):\n",
    "        visited.append(ini)\n",
    "        all_p.append(ini)\n",
    "        if(ini.b is 2):\n",
    "            for i in visited:\n",
    "                print(\"(\"+str(i.a)+\",\"+str(i.b)+\")\",end=\"  \")\n",
    "            print(end=\"\\n\")\n",
    "            flag=0\n",
    "            while(flag==0):\n",
    "                del(visited[len(visited)-1])\n",
    "                ini=visited[len(visited)-1]\n",
    "                for i in layer[ini]:\n",
    "                    if(i not in all_p):\n",
    "                        ini=i\n",
    "                        flag=1\n",
    "                        break\n",
    "                if(ini==obj[0]):\n",
    "                    flag=1\n",
    "                    count=1\n",
    "                if(flag==0):\n",
    "                    continue\n",
    "        elif(len(layer[ini])==0):\n",
    "            flag=0\n",
    "            while(flag==0):\n",
    "                del(visited[len(visited)-1])\n",
    "                ini=visited[len(visited)-1]\n",
    "                for i in layer[ini]:\n",
    "                    if(i not in all_p):\n",
    "                        ini=i\n",
    "                        flag=1\n",
    "                        break\n",
    "                if(ini==obj[0]):\n",
    "                    flag=1\n",
    "                    count=1\n",
    "                if(flag==0):\n",
    "                    continue\n",
    "        else:\n",
    "            for i in layer[ini]:\n",
    "                if(i not in visited):\n",
    "                    ini=i\n",
    "                    break\n"
   ]
  },
  {
   "cell_type": "code",
   "execution_count": 11,
   "metadata": {},
   "outputs": [],
   "source": [
    "#c1 and c2 is the capacity of the first jug and second jug respectively\n",
    "global p\n",
    "p=0\n",
    "c1=3\n",
    "c2=4\n",
    "obj={}\n",
    "layer=dict()\n",
    "ini=[0,0]\n",
    "var1=ini[0]\n",
    "var2=ini[1]\n",
    "obj[p]=water_jug()\n",
    "obj[p].a=var1\n",
    "obj[p].b=var2\n",
    "#f_layer holds the key-value pair for one level at a time\n",
    "f_layer=[]\n",
    "#BFS holds all the key that have not been generated with their child\n",
    "BFS=[]\n",
    "#all_n holds the value all all nodes generated so far\n",
    "all_n=[]\n",
    "f_layer.append(obj[p])\n",
    "BFS.append(obj[p])\n",
    "all_n.append(obj[p])\n",
    "p+=1"
   ]
  },
  {
   "cell_type": "code",
   "execution_count": 12,
   "metadata": {},
   "outputs": [],
   "source": [
    "#Creating dictionary using BFS\n",
    "c=0\n",
    "while(BFS):\n",
    "    while(c<6):\n",
    "        if(c==0):\n",
    "            fillA(ini)\n",
    "        if(c==1):\n",
    "            fillB(ini)\n",
    "        if(c==2):\n",
    "            emptyA(ini)\n",
    "        if(c==3):\n",
    "            emptyB(ini)\n",
    "        if(c==4):\n",
    "            AtoB(ini)\n",
    "        if(c==5):\n",
    "            BtoA(ini)\n",
    "        if(check_rep(ini,f_layer)==0 and check_rep(ini,all_n)==0):\n",
    "            obj[p]=water_jug()\n",
    "            obj[p].a=ini[0]\n",
    "            obj[p].b=ini[1]\n",
    "            f_layer.append(obj[p])\n",
    "            all_n.append(obj[p])\n",
    "            BFS.append(obj[p])\n",
    "            p+=1\n",
    "        ini=[var1,var2]\n",
    "        c+=1\n",
    "    addlevel(f_layer)\n",
    "    del BFS[0]\n",
    "    if(len(BFS)==0):\n",
    "        break\n",
    "    var1=BFS[0].a\n",
    "    var2=BFS[0].b\n",
    "    ini=[var1,var2]\n",
    "    f_layer=[]\n",
    "    f_layer.append(BFS[0])\n",
    "    c=0"
   ]
  },
  {
   "cell_type": "code",
   "execution_count": 13,
   "metadata": {},
   "outputs": [
    {
     "name": "stdout",
     "output_type": "stream",
     "text": [
      "(0,0): (3,0), (0,4), \n",
      "(3,0): (3,4), (0,3), \n",
      "(0,4): (3,1), \n",
      "(3,4): \n",
      "(0,3): (3,3), \n",
      "(3,1): (0,1), \n",
      "(3,3): (2,4), \n",
      "(0,1): (1,0), \n",
      "(2,4): (2,0), \n",
      "(1,0): (1,4), \n",
      "(2,0): (0,2), \n",
      "(1,4): (3,2), \n",
      "(0,2): \n",
      "(3,2): \n"
     ]
    }
   ],
   "source": [
    "#Printing dictionary using BFS\n",
    "for i in layer:\n",
    "    print(\"(\"+str(i.a)+\",\"+str(i.b)+\")\",end=\": \")\n",
    "    for j in layer[i]:\n",
    "        print(\"(\"+str(j.a)+\",\"+str(j.b)+\")\",end=\", \")\n",
    "    print(end=\"\\n\")"
   ]
  },
  {
   "cell_type": "code",
   "execution_count": 14,
   "metadata": {},
   "outputs": [
    {
     "name": "stdout",
     "output_type": "stream",
     "text": [
      "(0,0)  (3,0)  (0,3)  (3,3)  (2,4)  (2,0)  (0,2)  \n",
      "(0,0)  (0,4)  (3,1)  (0,1)  (1,0)  (1,4)  (3,2)  \n"
     ]
    }
   ],
   "source": [
    "#Finding paths using BFS\n",
    "find_path(layer)"
   ]
  },
  {
   "cell_type": "code",
   "execution_count": 15,
   "metadata": {},
   "outputs": [],
   "source": [
    "#SAME PROCESS FOR DFS"
   ]
  },
  {
   "cell_type": "code",
   "execution_count": 16,
   "metadata": {},
   "outputs": [],
   "source": [
    "global p\n",
    "p=0\n",
    "c1=3\n",
    "c2=4\n",
    "obj={}\n",
    "layer=dict()\n",
    "ini=[0,0]\n",
    "var1=ini[0]\n",
    "var2=ini[1]\n",
    "obj[p]=water_jug()\n",
    "obj[p].a=var1\n",
    "obj[p].b=var2\n",
    "f_layer=[]\n",
    "DFS=[]\n",
    "all_n=[]\n",
    "f_layer.append(obj[p])\n",
    "DFS.append(obj[p])\n",
    "all_n.append(obj[p])\n",
    "p+=1"
   ]
  },
  {
   "cell_type": "code",
   "execution_count": 17,
   "metadata": {},
   "outputs": [],
   "source": [
    "#Creating dictionary using DFS\n",
    "c=0\n",
    "pos=1\n",
    "while(DFS):\n",
    "    while(c<6):\n",
    "        if(c==0):\n",
    "            fillA(ini)\n",
    "        if(c==1):\n",
    "            fillB(ini)\n",
    "        if(c==2):\n",
    "            emptyA(ini)\n",
    "        if(c==3):\n",
    "            emptyB(ini)\n",
    "        if(c==4):\n",
    "            AtoB(ini)\n",
    "        if(c==5):\n",
    "            BtoA(ini)\n",
    "        if(check_rep(ini,f_layer)==0 and check_rep(ini,all_n)==0):\n",
    "            obj[p]=water_jug()\n",
    "            obj[p].a=ini[0]\n",
    "            obj[p].b=ini[1]\n",
    "            f_layer.append(obj[p])\n",
    "            all_n.append(obj[p])\n",
    "            DFS.insert(pos,obj[p])\n",
    "            pos+=1\n",
    "            p+=1\n",
    "        ini=[var1,var2]\n",
    "        c+=1\n",
    "    addlevel(f_layer)\n",
    "    del DFS[0]\n",
    "    if(len(DFS)==0):\n",
    "        break\n",
    "    var1=DFS[0].a\n",
    "    var2=DFS[0].b\n",
    "    ini=[var1,var2]\n",
    "    f_layer=[]\n",
    "    f_layer.append(DFS[0])\n",
    "    c=0\n",
    "    pos=1"
   ]
  },
  {
   "cell_type": "code",
   "execution_count": 18,
   "metadata": {},
   "outputs": [
    {
     "name": "stdout",
     "output_type": "stream",
     "text": [
      "(0,0): (3,0), (0,4), \n",
      "(3,0): (3,4), (0,3), \n",
      "(3,4): \n",
      "(0,3): (3,3), \n",
      "(3,3): (2,4), \n",
      "(2,4): (2,0), \n",
      "(2,0): (0,2), \n",
      "(0,2): (3,2), \n",
      "(3,2): (1,4), \n",
      "(1,4): (1,0), \n",
      "(1,0): (0,1), \n",
      "(0,1): (3,1), \n",
      "(3,1): \n",
      "(0,4): \n"
     ]
    }
   ],
   "source": [
    "#Printing dictionary using DFS\n",
    "for i in layer:\n",
    "    print(\"(\"+str(i.a)+\",\"+str(i.b)+\")\",end=\": \")\n",
    "    for j in layer[i]:\n",
    "        print(\"(\"+str(j.a)+\",\"+str(j.b)+\")\",end=\", \")\n",
    "    print(end=\"\\n\")"
   ]
  },
  {
   "cell_type": "code",
   "execution_count": 19,
   "metadata": {},
   "outputs": [
    {
     "name": "stdout",
     "output_type": "stream",
     "text": [
      "(0,0)  (3,0)  (0,3)  (3,3)  (2,4)  (2,0)  (0,2)  \n"
     ]
    }
   ],
   "source": [
    "#Finding path using DFS\n",
    "find_path(layer)"
   ]
  },
  {
   "cell_type": "code",
   "execution_count": null,
   "metadata": {},
   "outputs": [],
   "source": []
  }
 ],
 "metadata": {
  "kernelspec": {
   "display_name": "Python 3",
   "language": "python",
   "name": "python3"
  },
  "language_info": {
   "codemirror_mode": {
    "name": "ipython",
    "version": 3
   },
   "file_extension": ".py",
   "mimetype": "text/x-python",
   "name": "python",
   "nbconvert_exporter": "python",
   "pygments_lexer": "ipython3",
   "version": "3.7.1"
  }
 },
 "nbformat": 4,
 "nbformat_minor": 2
}
